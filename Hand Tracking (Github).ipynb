{
 "cells": [
  {
   "cell_type": "markdown",
   "metadata": {},
   "source": [
    "<img src=\"https://firebasestorage.googleapis.com/v0/b/deep-learning-crash-course.appspot.com/o/Logo.png?alt=media&token=06318ee3-d7a0-44a0-97ae-2c95f110e3ac\" width=\"100\" height=\"100\" align=\"right\"/>"
   ]
  },
  {
   "cell_type": "markdown",
   "metadata": {},
   "source": [
    "## How to use Gesture to take Selfie on Python"
   ]
  },
  {
   "cell_type": "markdown",
   "metadata": {},
   "source": [
    "## OpenCV and Mediapipe"
   ]
  },
  {
   "cell_type": "code",
   "execution_count": 2,
   "metadata": {},
   "outputs": [],
   "source": [
    "import cv2\n",
    "import mediapipe as mp"
   ]
  },
  {
   "cell_type": "markdown",
   "metadata": {},
   "source": [
    "## Selfie"
   ]
  },
  {
   "cell_type": "code",
   "execution_count": null,
   "metadata": {},
   "outputs": [],
   "source": [
    "cap = cv2.VideoCapture(0) # Replace with your own video and webcam\n",
    "\n",
    "mpHands = mp.solutions.hands\n",
    "hands = mpHands.Hands() \n",
    "\n",
    "def coordinate(id, h, w):\n",
    "    cx, cy = lm.x*w, lm.y*h\n",
    "    cv2.circle(img, (int(cx), int(cy)), 1, (255,255,255), cv2.FILLED)  \n",
    "    return cx, cy\n",
    "\n",
    "Take_photo=0\n",
    "\n",
    "while True:\n",
    "    success, img = cap.read()\n",
    "    \n",
    "    if not success: \n",
    "        break\n",
    "    \n",
    "    imgRGB = cv2.cvtColor(img, cv2.COLOR_BGR2RGB)\n",
    "    results = hands.process(imgRGB)\n",
    "\n",
    "    h, w, c = img.shape\n",
    "    handsup=0\n",
    "    thumbs_correct=0\n",
    "    fingers_correct=0\n",
    "    \n",
    "    if results.multi_hand_landmarks:\n",
    "        for handLms in results.multi_hand_landmarks:\n",
    "            for id, lm in enumerate(handLms.landmark):\n",
    "                if id == 0: \n",
    "                    __, cy_0 = coordinate(0, h, w)\n",
    "                if id == 10: \n",
    "                    __, cy_10 = coordinate(10, h, w)\n",
    "            \n",
    "                if id == 2:\n",
    "                    __, cy_2 = coordinate(2, h, w)\n",
    "                if id == 3:\n",
    "                    __, cy_3 = coordinate(3, h, w)\n",
    "            \n",
    "                if id == 5: \n",
    "                    __, cy_5 = coordinate(5, h, w)\n",
    "                if id == 9: \n",
    "                    __, cy_9 = coordinate(9, h, w)\n",
    "                if id == 13: \n",
    "                    __, cy_13 = coordinate(13, h, w)\n",
    "                if id == 17: \n",
    "                    __, cy_17 = coordinate(17, h, w)\n",
    "                    \n",
    "                if id == 8: \n",
    "                    __, cy_8 = coordinate(8, h, w)  \n",
    "                if id == 12: \n",
    "                    __, cy_12 = coordinate(12, h, w)\n",
    "                if id == 16: \n",
    "                    __, cy_16 = coordinate(16, h, w)\n",
    "                if id == 20: \n",
    "                    __, cy_20 = coordinate(20, h, w)\n",
    "            \n",
    "            if cy_10 < cy_0:\n",
    "                handsup=1\n",
    "            else:\n",
    "                handsup=0\n",
    "                    \n",
    "            if (cy_2 > cy_10 and cy_2 < cy_0) and (cy_3 > cy_10 and cy_3 < cy_0):\n",
    "                thumbs_correct=1\n",
    "            else:\n",
    "                thumbs_correct=0\n",
    "            \n",
    "            if (cy_5 < cy_8) and (cy_9 < cy_12) and (cy_13 < cy_16) and (cy_17 < cy_20):\n",
    "                fingers_correct=1\n",
    "            else:\n",
    "                figners_correct=0\n",
    "            \n",
    "            if handsup==1 and thumbs_correct==1 and fingers_correct==1 and Take_photo==0:\n",
    "                Take_photo=120\n",
    "\n",
    "    if Take_photo>1:\n",
    "        if Take_photo>=90:\n",
    "            cv2.putText(img, '3', (int(w/2),int(h/2)), cv2.FONT_HERSHEY_SIMPLEX, 1, (255,255,255), 3)        \n",
    "        elif Take_photo>=60:\n",
    "            cv2.putText(img, '2', (int(w/2),int(h/2)), cv2.FONT_HERSHEY_SIMPLEX, 1, (255,255,255), 3)\n",
    "        elif Take_photo>=30:\n",
    "            cv2.putText(img, '1', (int(w/2),int(h/2)), cv2.FONT_HERSHEY_SIMPLEX, 1, (255,255,255), 3)\n",
    "        Take_photo-=1\n",
    "        \n",
    "    elif Take_photo==1:\n",
    "        cv2.imwrite(\"photo.jpg\", img)\n",
    "        Take_photo=0\n",
    "    \n",
    "    cv2.imshow(\"Image\", img)\n",
    "    \n",
    "    if cv2.waitKey(10) & 0xFF==ord('q'):\n",
    "        break  \n",
    "        \n",
    "cap.release()\n",
    "cv2.destroyAllWindows()"
   ]
  },
  {
   "cell_type": "markdown",
   "metadata": {},
   "source": [
    "## Show the selfie"
   ]
  },
  {
   "cell_type": "code",
   "execution_count": 4,
   "metadata": {},
   "outputs": [],
   "source": [
    "img = cv2.imread('photo.jpg')\n",
    "cv2.imshow('Selfie', img)\n",
    "cv2.waitKey(0)\n",
    "cv2.destroyAllWindows()"
   ]
  },
  {
   "cell_type": "code",
   "execution_count": null,
   "metadata": {},
   "outputs": [],
   "source": []
  }
 ],
 "metadata": {
  "kernelspec": {
   "display_name": "Python 3 (ipykernel)",
   "language": "python",
   "name": "python3"
  },
  "language_info": {
   "codemirror_mode": {
    "name": "ipython",
    "version": 3
   },
   "file_extension": ".py",
   "mimetype": "text/x-python",
   "name": "python",
   "nbconvert_exporter": "python",
   "pygments_lexer": "ipython3",
   "version": "3.8.8"
  }
 },
 "nbformat": 4,
 "nbformat_minor": 2
}
